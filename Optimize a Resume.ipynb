{
 "cells": [
  {
   "cell_type": "code",
   "execution_count": 1,
   "metadata": {
    "collapsed": false
   },
   "outputs": [],
   "source": [
    "import os\n",
    "import utils\n",
    "import keyword_extractor\n",
    "import resume_optimizer"
   ]
  },
  {
   "cell_type": "code",
   "execution_count": 10,
   "metadata": {
    "collapsed": false
   },
   "outputs": [],
   "source": [
    "# Provide paths to a text job description and resume\n",
    "job_file = 'data/jobs/web_and_db_developer.txt'\n",
    "resume_file = 'data/resumes/pjb_resume.txt'\n",
    "ro = resume_optimizer.ResumeOptimizer(job_file, resume_file)"
   ]
  },
  {
   "cell_type": "code",
   "execution_count": 11,
   "metadata": {
    "collapsed": false
   },
   "outputs": [
    {
     "data": {
      "text/plain": [
       "0.57896599295317974"
      ]
     },
     "execution_count": 11,
     "metadata": {},
     "output_type": "execute_result"
    }
   ],
   "source": [
    "ro.similarity"
   ]
  },
  {
   "cell_type": "code",
   "execution_count": 12,
   "metadata": {
    "collapsed": false
   },
   "outputs": [
    {
     "name": "stdout",
     "output_type": "stream",
     "text": [
      "SKILL REPORT\n",
      "************\n",
      "\n",
      "Relevance               Your Resume             Relevance               \n",
      "\n",
      "WEB                     11.0                    SYSTEM                  9.0                     \n",
      "DESIGN                  11.0                    DATA                    9.0                     \n",
      "WEB SERVICES            8.5                     ONLINE                  7.0                     \n",
      "WEB TECHNOLOGIES        7.5                     PROGRAMMING             7.0                     \n",
      "SYSTEM DESIGN           6.5                     ORACLE DATABASE         6.0                     \n",
      "DESIGN PATTERNS         6.5                     CLASSES                 6.0                     \n",
      "INTEGRATION             5.0                     STORED PROCEDURES       6.0                     \n",
      "TESTING                 5.0                     CLASS                   6.0                     \n",
      "SIMILAR                 5.0                     RELATIONAL DATABASES    5.0                     \n",
      "DATABASES               4.0                     HOUR                    4.0                     \n",
      "DATA CENTER             4.0                     SOFTWARE ENGINEERING    4.0                     \n",
      "UNIT TESTING            3.5                     SEATTLE                 4.0                     \n",
      "PLUS                    3.0                     CUT                     3.0                     \n",
      "CUSTOMIZATION           3.0                     EXTRACT                 3.0                     \n",
      "EXTERNAL                3.0                     EMPLOYEES               3.0                     \n",
      "UNIFIED COMMUNICATIONS  2.5                     ONE                     3.0                     \n",
      "VISUAL STUDIO           2.0                     MAINFRAME               3.0                     \n",
      "REQUIREMENTS GATHERING  2.0                     INDEXES                 3.0                     \n",
      "OPERATIONS              1.0                     DOCUMENTATION           3.0                     \n",
      "WRITING                 1.0                     IBM MAINFRAME           2.5                     \n",
      "HTML                    1.0                     WINDOWS NT              2.5                     \n",
      "BANKING                 1.0                     WINDOWS 2000            2.0                     \n",
      "QUERIES                 1.0                     MANAGEMENT              2.0                     \n",
      "VIRTUALIZATION          1.0                     MAINTENANCE             2.0                     \n",
      "CAPACITY                1.0                     LESS                    1.0                     \n",
      "ARCHITECTURE            1.0                     VEGAS                   1.0                     \n",
      "HEALTHCARE              1.0                     FRONT                   1.0                     \n",
      "JAVASCRIPT              1.0                     WORLD                   1.0                     \n",
      "METRICS                 1.0                     SET                     1.0                     \n",
      "TRAINING                1.0                     PHASES                  1.0                     \n",
      "RETAIL                  1.0                     ABILITY                 1.0                     \n",
      "MOBILITY                1.0                     LEADERSHIP              1.0                     \n",
      "ONE                     1.0                     SCIENCE                 1.0                     \n",
      "TROUBLESHOOTING         1.0                     COMMUNICATION           1.0                     \n",
      "CLOUD                   1.0                     ROBUST                  1.0                     \n",
      "CONSUMPTION             1.0                     ADDITIONS               1.0                     \n",
      "ABROAD                  1.0                     RUNTIMES                1.0                     \n",
      "PROTOTYPE               1.0                     MAINTAIN                1.0                     \n",
      "VOLUME                  1.0                                                                     \n",
      "VERIFICATION            1.0                                                                     \n",
      "MIDDLE                  1.0                                                                     \n",
      "ASP.NET                 1.0                                                                     \n",
      "VIEWS                   1.0                                                                     \n",
      "INDEXES                 1.0                                                                     \n",
      "MAINTAIN                1.0                                                                     \n",
      "MODIFICATION            1.0                                                                     \n",
      "EVOLVE                  1.0                                                                     \n",
      "ANALYSIS                1.0                                                                     \n",
      "CLIENT                  1.0                                                                     \n",
      "ORACLE                  1.0                                                                     \n",
      "VALIDATION              1.0                                                                     \n",
      "\n",
      "MISSING SKILL SUGGESTIONS\n",
      "*************************\n",
      "\n",
      "Can you modify SYSTEM to use WEB?\n",
      "Can you modify WINDOWS NT to use WEB?\n",
      "Can you modify WINDOWS 2000 to use WEB?\n",
      "Can you modify SYSTEM to use DESIGN?\n",
      "Can you modify PROGRAMMING to use DESIGN?\n",
      "Can you modify SOFTWARE ENGINEERING to use DESIGN?\n",
      "Can you modify MAINTENANCE to use WEB SERVICES?\n",
      "Can you modify SYSTEM to use WEB SERVICES?\n",
      "Can you modify STORED PROCEDURES to use WEB SERVICES?\n",
      "Can you modify SOFTWARE ENGINEERING to use WEB TECHNOLOGIES?\n",
      "Can you modify SYSTEM to use WEB TECHNOLOGIES?\n",
      "Can you modify SCIENCE to use WEB TECHNOLOGIES?\n",
      "Can you modify SYSTEM to use SYSTEM DESIGN?\n",
      "Can you modify PROGRAMMING to use SYSTEM DESIGN?\n",
      "Can you modify SOFTWARE ENGINEERING to use SYSTEM DESIGN?\n"
     ]
    }
   ],
   "source": [
    "ro.optimize_skills()"
   ]
  },
  {
   "cell_type": "code",
   "execution_count": 14,
   "metadata": {
    "collapsed": false
   },
   "outputs": [
    {
     "name": "stdout",
     "output_type": "stream",
     "text": [
      "Can you modify SYSTEM to use DESIGN PATTERNS?\n",
      "Can you modify PROGRAMMING to use DESIGN PATTERNS?\n",
      "Can you modify STORED PROCEDURES to use DESIGN PATTERNS?\n",
      "Can you modify SOFTWARE ENGINEERING to use DESIGN PATTERNS?\n",
      "Can you modify CUT to use DESIGN PATTERNS?\n"
     ]
    }
   ],
   "source": [
    "# Manually look for suggestions for a particular missing skill\n",
    "ro.list_similar_skills('design patterns', number_to_return=5)"
   ]
  },
  {
   "cell_type": "code",
   "execution_count": 15,
   "metadata": {
    "collapsed": false
   },
   "outputs": [
    {
     "name": "stdout",
     "output_type": "stream",
     "text": [
      "\n",
      "ACRONYMS TO USE\n",
      "****************\n",
      "\n",
      "SSRS\n",
      "SSIS\n",
      "ASP.Net\n",
      "CSHTML\n",
      "SQL\n",
      "IIS\n",
      "OOP\n",
      "SDLC\n",
      "TFS\n",
      "SVN\n"
     ]
    }
   ],
   "source": [
    "# Print acronyms\n",
    "ro.optimize_acronyms()"
   ]
  },
  {
   "cell_type": "code",
   "execution_count": 16,
   "metadata": {
    "collapsed": false
   },
   "outputs": [
    {
     "name": "stdout",
     "output_type": "stream",
     "text": [
      "\n",
      "ACTION WORD SUGGESTIONS\n",
      "***********************\n",
      "\n",
      "Can you modify MAKE to use CONSTRUCT?\n",
      "Can you modify DWELL to use EXIST?\n",
      "Can you modify MAKE to use CONSTRUCT?\n"
     ]
    }
   ],
   "source": [
    "ro.optimize_action_words()"
   ]
  },
  {
   "cell_type": "code",
   "execution_count": 17,
   "metadata": {
    "collapsed": false
   },
   "outputs": [
    {
     "data": {
      "text/plain": [
       "[(Sentence(\"Strong skills in database application development including working knowledge of \n",
       "  data design and development with Microsoft SQL Server DBMS system.\"),\n",
       "  1.1666666666666665),\n",
       " (Sentence(\"Must be able to communicate in writing and verbally all projects progress.\"),\n",
       "  1.125)]"
      ]
     },
     "execution_count": 17,
     "metadata": {},
     "output_type": "execute_result"
    }
   ],
   "source": [
    "ro.job['value_sentences']"
   ]
  }
 ],
 "metadata": {
  "kernelspec": {
   "display_name": "Python 2",
   "language": "python",
   "name": "python2"
  },
  "language_info": {
   "codemirror_mode": {
    "name": "ipython",
    "version": 2
   },
   "file_extension": ".py",
   "mimetype": "text/x-python",
   "name": "python",
   "nbconvert_exporter": "python",
   "pygments_lexer": "ipython2",
   "version": "2.7.11"
  }
 },
 "nbformat": 4,
 "nbformat_minor": 0
}
