{
 "cells": [
  {
   "cell_type": "code",
   "execution_count": 2,
   "metadata": {
    "collapsed": false
   },
   "outputs": [],
   "source": [
    "import os\n",
    "import job_utils"
   ]
  },
  {
   "cell_type": "code",
   "execution_count": 3,
   "metadata": {
    "collapsed": false
   },
   "outputs": [
    {
     "name": "stdout",
     "output_type": "stream",
     "text": [
      "['jobs/cori_pt_job.txt', 'jobs/data_systems_engineer.txt', 'jobs/health_it_job.txt', 'jobs/kp_job_description.txt']\n"
     ]
    }
   ],
   "source": [
    "samples = ['jobs/'+j for j in os.listdir('jobs')]\n",
    "print samples"
   ]
  },
  {
   "cell_type": "code",
   "execution_count": 5,
   "metadata": {
    "collapsed": false
   },
   "outputs": [
    {
     "name": "stdout",
     "output_type": "stream",
     "text": [
      "Job Title: Senior Informatics Research Assistant\n",
      "\n",
      "Keywords: [('experience', 3), ('familiarity', 2), ('fte', 2), (u'gastroenterology/cori required qualifications', 1), (u\"bachelor 's degree\", 1), (u'work experience', 1), (u'computer information', 1), ('technology/software', 1), (u'database design', 1), (u'system architecture', 1), ('oracle', 1), (u'microsoft sql server', 1), (u'database administration', 1), ('skilled', 1), ('sql', 1), ('expertise', 1), ('python', 1), (u'preferred qualifications', 1), (u'software requirements', 1), (u'database-driven web', 1), (u'client/server applications', 1), (u'research methodologies/research experience', 1), (u'medical profession/experience', 1), (u'medical personnel', 1), ('php', 1), (u'web development skills', 1), (u'skills brief description', 1), ('location', 1), ('marquam', 1), (u'detailed description', 1), (u'medical researchers', 1), ('gastroenterology/cori', 1), (u'prospective clinical research', 1)]\n",
      "\n",
      "Value Sentences: []\n",
      "\n",
      "Actions: [(u'create', 2), (u'increase', 1), (u'use', 1), (u'work', 1), (u'develop', 1), (u'be', 1), ('skilled', 1), (u'prefer', 1), (u'write', 1), (u'maintain', 1), (u'require', 1), (u'store', 1)]\n",
      "\n",
      "Job Title: Data Systems Engineer\n",
      "\n",
      "Keywords: [('e.g', 6), (u'machine learning', 3), (u'data systems engineer', 3), ('oo', 3), ('bangkok', 2), ('develop', 2), ('hadoop', 2), (u'oo/python/big data', 1), ('thailand', 1), ('it', 1), ('asia', 1), (u'world class talent', 1), (u'$ 3bn business', 1), ('role', 1), (u'software engineering', 1), (u'machine learning development group', 1), (u'top-quality software engineer', 1), (u'agile environment', 1), (u'efficient code', 1), (u\"client 's\", 1), (u'edge online hotel', 1), (u'machine learning team', 1), (u'entire business funnel', 1), (u'long term vision', 1), (u'real time', 1), (u'post-payment page', 1), (u'substantial impact', 1), ('working', 1), (u'expose developers', 1), (u'inner workings', 1), (u'practical side', 1), ('responsibilities', 1), (u'new systems', 1), ('build', 1), (u'fullest extent', 1), ('ensure', 1), (u'fault tolerant', 1), ('determine', 1), ('petabytes', 1), (u'parallel analytic models', 1), (u'linear regression', 1), (u'random forest', 1), (u'analytic models', 1), (u'massively parallel processing', 1), ('mpp', 1), (u'in-memory analytical platform', 1), ('analyze', 1), ('sql', 1), ('shell', 1), (u'numerical algorithm', 1), ('nag', 1), ('debug', 1), (u'memory dumps', 1), (u'thread pools', 1), (u'load tests', 1), ('fight', 1), (u'garbage collector', 1), ('find', 1), (u'technological innovation', 1), (u'data technologies', 1), ('spark', 1), ('techyon', 1), ('python', 1), ('scala', 1), ('server', 1), (u'side web technologies', 1), ('django', 1), ('celery', 1), ('nosql', 1), (u'database technologies', 1), ('cassandra', 1), ('redis', 1), ('cloud', 1), ('azure', 1), ('amazon', 1), ('openstack', 1), ('messaging', 1), ('rabbitmq', 1), ('requirements', 1), (u'end/server side software development', 1), (u'modern development technologies', 1), ('experience', 1), (u'great communication', 1), (u'interpersonal skills', 1), ('mindset', 1), (u'team player', 1), ('english', 1), ('competitive', 1), (u'annual salary', 1), (u'% tax', 1), (u'international candidates', 1), (u'medical coverage', 1), ('discounted', 1), (u'hotel accommodation', 1), ('exposure', 1), (u'travel industry', 1), ('excellent', 1), (u'growth opportunities', 1), ('exciting', 1), (u'multicultural environment', 1), ('dress', 1), (u'smart casual', 1), (u'international applications', 1), (u'full visa sponsorship', 1), (u'relocation assistance', 1), (u'eligible candidates', 1), (u'team appeals', 1), ('cv', 1)]\n",
      "\n",
      "Value Sentences: [(Sentence(\"The team is composed of experienced mathematicians and developers, working together to create products that make a substantial impact on the business of the company.\"), 1.7000000000000002), (Sentence(\"With world class talent from over 65 countries, the atmosphere of a start-up and the muscle of a $3bn business, this company is an incredible technical creative melting pot.\"), 1.1333333333333333), (Sentence(\"If you are a Data Systems Engineer and the idea of becoming part of this team appeals to you we want to hear from you straight away.\"), 0.95)]\n",
      "\n",
      "Actions: [(u'be', 7), (u'work', 4), (u'use', 2), (u'scale', 2), (u'develop', 2), (u'write', 2), ('enjoy', 1), ('retrieve', 1), ('help', 1), ('being', 1), ('contribute', 1), (u'bring', 1), ('have', 1), ('participate', 1), ('straight', 1), (u'lead', 1), ('create', 1), ('send', 1), (u'book', 1), ('inner', 1), ('relocate', 1), ('store', 1), ('want', 1), ('deploy', 1), ('communicate', 1), ('expose', 1), ('welcome', 1), (u'serve', 1), (u'innovate', 1), (u'cut', 1), ('hear', 1), ('affect', 1), (u'grow', 1), (u'expand', 1), ('like', 1), (u'compose', 1), (u'join', 1), ('working', 1), (u'require', 1), (u'list', 1), (u'learn', 1), (u'thrash', 1), (u'become', 1), ('make', 1), ('travel', 1)]\n",
      "\n",
      "Job Title: Business Intelligence Developer \n",
      "\n",
      "Keywords: [('bi', 3), ('provide', 3), ('experience', 2), ('portland', 1), ('or', 1), ('lewiston', 1), ('id', 1), (u'salt lake city', 1), ('ut', 1), ('seattle', 1), ('wa', 1), ('developers', 1), (u'health care mess', 1), ('bring', 1), (u'technical expertise', 1), ('participate', 1), (u'team environment', 1), (u'application systems *', 1), ('responsible', 1), (u'development environment *', 1), (u'tools development', 1), (u'administrative skills', 1), (u'day work *', 1), ('expected', 1), (u'requirements analysis', 1), (u'system analysis', 1), (u'system design', 1), (u'data models', 1), (u'program design', 1), (u'source code development', 1), (u'test case development', 1), (u'documentation *', 1), ('rits', 1), (u'departmental policies', 1), (u'architecture standards', 1), (u'production implementation standards', 1), (u'regular status', 1), (u'regular participation', 1), (u'team meetings', 1), (u'team lead', 1), (u'work estimates', 1), (u'regular time', 1), ('combine', 1), (u'multi-platform experience', 1), (u\"* bachelor 's\", 1), ('degree', 1), ('computer', 1), ('mathematics', 1), (u'business administration', 1), ('engineering', 1), ('appropriate', 1), (u'additional experience', 1), (u'education *', 1), (u'years relevant experience', 1), (u'multi-platform environment', 1), (u'application development', 1), (u'database development', 1), ('prefer', 1), (u'+ years', 1), (u'sas bi', 1), ('ssrs', 1), (u'tool *', 1), (u'multidimensional database schemas *', 1), ('olap', 1), (u'online analytical processing', 1), (u'reports *', 1), (u'health care', 1), ('communicates', 1), (u'timely manner', 1), (u'communication * work', 1), (u'business customers', 1), ('it', 1), (u'partners *', 1), (u'system issues', 1), (u'problems *', 1), ('technically', 1), (u'core technologies', 1), (u'team *', 1), ('effectively', 1), (u'technological and/or business', 1), (u'mid-level scope *', 1), ('analyze', 1), (u'system coordination issues *', 1), (u'technical direction', 1), (u'team members *', 1), ('lead', 1), (u'multi-discipline teams', 1), (u'work efforts', 1), (u'complete tasks', 1), (u'status reports', 1), ('hard', 1), (u'competitive salary', 1), (u'generous benefits package', 1), ('join', 1), (u'development team', 1), (u'equal opportunity employer', 1), (u'workforce diversity', 1), (u'tobacco-free workplace', 1), (u'drug screening', 1), ('background', 1)]\n",
      "\n",
      "Value Sentences: [(Sentence(\"Join an innovative, forward-thing development team.\"), 1.5)]\n",
      "\n",
      "Actions: [(u'be', 9), ('include', 4), (u'test', 3), (u'design', 2), ('have', 2), (u'apply', 2), ('*', 2), (u'write', 2), (u'track', 2), ('resolve', 2), ('code', 1), (u'coordinate', 1), ('skilled', 1), ('bring', 1), (u'substitute', 1), (u'inspire', 1), (u'use', 1), (u'perform', 1), (u'create', 1), (u'adhere', 1), ('application', 1), ('adapt', 1), (u'solve', 1), ('complete', 1), ('offer', 1), (u'assist', 1), ('workforce', 1), ('expected', 1), (u'qualify', 1), (u'change', 1), (u'desire', 1), (u'analyze', 1), ('join', 1), (u'require', 1), ('work', 1), (u'dedicate', 1), (u'provide', 1), (u'limit', 1), (u'debug', 1), (u'reward', 1)]\n",
      "\n",
      "Job Title: Research Associate II\n",
      "\n",
      "Keywords: [('working', 7), ('participate', 5), (u'research projects', 5), (u'word processing', 5), (u'research experience', 5), ('internet', 4), (u'research activities', 3), ('excellent', 3), (u'senior investigators', 2), (u'substantive field', 2), (u'data collection', 2), ('qualifications', 2), ('doctoral', 2), (u'health services', 2), (u'standard desktop', 2), (u'software packages', 2), (u'presentation software', 2), (u'statistical theory', 2), (u'qualitative analysis methods', 2), (u'database management techniques relevant', 2), (u'pertinent substantive area', 2), (u'discipline area', 2), (u'supervisory skills', 2), (u'job number', 1), (u'kaiser permanente', 1), (u'day supports', 1), (u'business professionals', 1), ('it', 1), (u'team members', 1), ('rns', 1), (u'front line', 1), (u'possible care experience', 1), ('widely', 1), (u'outdoor enthusiasts', 1), (u'pacific northwest blends', 1), (u'urban bustle', 1), (u'open space', 1), (u'own state', 1), ('looking', 1), ('join', 1), ('description', 1), (u'administrative support', 1), (u'day-to-day operations', 1), (u'evaluation projects', 1), (u'essential functions', 1), ('supervise', 1), (u'project staff', 1), (u'conceptual variables', 1), (u'specific research questions', 1), (u'analytic designs', 1), (u'statistical analyses', 1), (u'research data', 1), (u'disseminate findings', 1), (u'technical audiences', 1), ('provide', 1), (u'technical/consultative services', 1), ('chr', 1), ('kp', 1), (u'graduate students', 1), (u'post-doctoral fellows', 1), (u'appropriate computer programs', 1), (u'laboratory tests', 1), ('rrs', 1), ('connect', 1), (u'specific programs', 1), ('cas', 1), (u'computer software', 1), ('minimum', 1), (u'health services research', 1), ('experience', 1), (u'internet browsers', 1), (u'statistical software packages', 1), (u'database management software', 1), (u'various combinations', 1), (u'research training', 1), (u'graduate degrees', 1), ('ra-ii', 1), (u'appropriate health', 1), (u'additional education', 1), (u'public health field', 1), (u'specific field', 1), ('m.d.', 1), ('r.n.', 1), ('r.p.t.', 1), ('r.ph.', 1), ('m.s.w.', 1), (u'ra iis', 1), (u'academic discipline', 1), (u'respective professional associations', 1), (u'health care issues', 1), (u'communications skills', 1), (u'basic level', 1), (u'computer operations skills', 1), (u'good organizational', 1), (u'general direction', 1), (u'preferred qualifications', 1), (u'research network', 1), (u'outpatient clinic setting', 1), (u'training clinic staff', 1), (u'quality assurance', 1), (u'high-quality communication strategies', 1), (u'dental hygiene', 1), ('extensive', 1), (u'health care system', 1), (u'college-level teaching experience', 1), (u'substantive discipline', 1), (u'management experience', 1), (u'doctoral degree', 1), ('thorough', 1), (u'public health', 1), (u'health services issues relevant', 1), (u'health care phenomena', 1), (u'health care policy', 1), (u'primary location', 1), ('oregon-portland-center', 1), (u'health research', 1), ('ave', 1)]\n",
      "\n",
      "Value Sentences: [(Sentence(\"Excellent organizational, writing, communication, and supervisory skills.\"), 2.0), (Sentence(\"Excellent word processing, spread sheeting, and Internet skills.\"), 2.0), (Sentence(\"Working knowledge of statistical theory and hypothesis testing, quantitative or qualitative analysis methods, and database management techniques relevant to the design, conduct, and analysis of research projects in the pertinent substantive area.\"), 1.3), (Sentence(\"That's because each of us-from our business professionals and IT team members to our RNs and physicians on the front line of care-shares a commitment to providing the best possible care experience.\"), 1.15), (Sentence(\"Excellent writing and communications skills;\n",
      " Basic level of computer operations skills, including word processing, spread sheeting, presentations, and Internet use; and,\n",
      " Good organizational and supervisory skills to carry out research activities under the general direction of an investigator.\"), 0.99375)]\n",
      "\n",
      "Actions: [(u'be', 7), ('working', 5), ('participate', 4), ('relevant', 3), ('database', 3), (u'design', 2), (u'provide', 2), (u'support', 2), (u'conduct', 2), (u'include', 2), (u'compute', 2), (u'require', 2), (u'relate', 1), ('direct', 1), ('carry', 1), ('operationalizing', 1), (u'need', 1), (u'write', 1), ('use', 1), (u'develop', 1), (u'prepare', 1), ('disseminate', 1), ('looking', 1), ('build', 1), (u'translate', 1), ('do', 1), ('assist', 1), (\"'s\", 1), ('degree', 1), (u'track', 1), ('sufficient', 1), (u'regard', 1), ('communicate', 1), ('qualify', 1), (u'base', 1), ('spreadsheeting', 1), ('put', 1), (u'interpret', 1), ('collaborate', 1), (u'oversee', 1), (u'train', 1), ('team', 1), ('enhance', 1), (u'reward', 1), (u'blend', 1), (u'order', 1)]\n",
      "\n"
     ]
    }
   ],
   "source": [
    "for sample in samples:\n",
    "    job = job_utils.read_job_description(sample)\n",
    "    job = job_utils.extract_keywords(job)\n",
    "    job = job_utils.extract_value_sentences(job)\n",
    "    job = job_utils.extract_actions(job)\n",
    "    print \"Job Title: {title}\\n\\nKeywords: {keywords}\\n\\nValue Sentences: {value_sentences}\\n\\nActions: {actions}\".format(**job)\n",
    "    print ''"
   ]
  },
  {
   "cell_type": "code",
   "execution_count": null,
   "metadata": {
    "collapsed": true
   },
   "outputs": [],
   "source": []
  }
 ],
 "metadata": {
  "kernelspec": {
   "display_name": "Python 2",
   "language": "python",
   "name": "python2"
  },
  "language_info": {
   "codemirror_mode": {
    "name": "ipython",
    "version": 2
   },
   "file_extension": ".py",
   "mimetype": "text/x-python",
   "name": "python",
   "nbconvert_exporter": "python",
   "pygments_lexer": "ipython2",
   "version": "2.7.11"
  }
 },
 "nbformat": 4,
 "nbformat_minor": 0
}
